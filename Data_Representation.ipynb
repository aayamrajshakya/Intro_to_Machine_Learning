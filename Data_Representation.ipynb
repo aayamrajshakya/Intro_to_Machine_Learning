{
  "cells": [
    {
      "cell_type": "markdown",
      "metadata": {
        "id": "h2sZ6NNPZ4vR"
      },
      "source": [
        "# 1. Label Encoding"
      ]
    },
    {
      "cell_type": "markdown",
      "source": [
        "## w/o Sklearn"
      ],
      "metadata": {
        "id": "YVmgGmuhQ_YQ"
      }
    },
    {
      "cell_type": "code",
      "source": [
        "# Data\n",
        "colors = ['Red', 'Green', 'Yellow', 'Red', 'Green', 'Black']\n",
        "\n",
        "# Initialize a mapping (dictionary)\n",
        "label_mapping = {label: idx for idx, label in enumerate(set(colors))}\n",
        "\n",
        "# Fit and Transform the data\n",
        "encoded_colors = [label_mapping[color] for color in colors]\n",
        "\n",
        "# Output\n",
        "print(\"Label Encoded:\", encoded_colors)"
      ],
      "metadata": {
        "colab": {
          "base_uri": "https://localhost:8080/"
        },
        "id": "CmbRJmwhTMEg",
        "outputId": "ae6ef4f8-15b8-4c74-dcce-a6804dc8312e"
      },
      "execution_count": null,
      "outputs": [
        {
          "output_type": "stream",
          "name": "stdout",
          "text": [
            "Label Encoded: [2, 1, 0, 2, 1, 3]\n"
          ]
        }
      ]
    },
    {
      "cell_type": "markdown",
      "source": [
        "## w/ Sklearn"
      ],
      "metadata": {
        "id": "LI95XjhXTRWc"
      }
    },
    {
      "cell_type": "code",
      "execution_count": null,
      "metadata": {
        "colab": {
          "base_uri": "https://localhost:8080/"
        },
        "id": "c8XNQZTbYz5J",
        "outputId": "e30cbde6-793a-4a30-8c8b-a6e092d2663d"
      },
      "outputs": [
        {
          "output_type": "stream",
          "name": "stdout",
          "text": [
            "Label Encoded: [2 1 3 2 0]\n"
          ]
        }
      ],
      "source": [
        "from sklearn.preprocessing import LabelEncoder\n",
        "\n",
        "# Data\n",
        "colors = ['Red', 'Green', 'Yellow', 'Red', 'Blue']\n",
        "\n",
        "# Initialize Label Encoder\n",
        "label_encoder = LabelEncoder()\n",
        "\n",
        "# Fit and Transform the data\n",
        "encoded_colors = label_encoder.fit_transform(colors)\n",
        "\n",
        "# Output\n",
        "print(\"Label Encoded:\", encoded_colors)"
      ]
    },
    {
      "cell_type": "markdown",
      "metadata": {
        "id": "VfXM7BjWZ_rr"
      },
      "source": [
        "# 2. One-Hot Encoding"
      ]
    },
    {
      "cell_type": "markdown",
      "source": [
        "## w/o SKlearn"
      ],
      "metadata": {
        "id": "ywy6z-mARDIE"
      }
    },
    {
      "cell_type": "code",
      "source": [
        "import numpy as np\n",
        "\n",
        "# Data\n",
        "colors = np.array(['Red', 'Green', 'Yellow', 'Red'])\n",
        "\n",
        "# Get unique values\n",
        "unique_colors = np.unique(colors)\n",
        "\n",
        "# Initialize a zero matrix for one-hot encoding\n",
        "onehot_encoded = np.zeros((colors.shape[0], unique_colors.shape[0]))\n",
        "\n",
        "# Fill the one-hot encoding matrix\n",
        "for idx, color in enumerate(colors):\n",
        "    onehot_encoded[idx, np.where(unique_colors == color)[0][0]] = 1\n",
        "\n",
        "# Output\n",
        "print(\"One-Hot Encoded:\\n\", onehot_encoded)"
      ],
      "metadata": {
        "colab": {
          "base_uri": "https://localhost:8080/"
        },
        "id": "Ghhs61WgTjqN",
        "outputId": "0131e4e1-def6-4f80-98b9-78ac5e2b895b"
      },
      "execution_count": null,
      "outputs": [
        {
          "output_type": "stream",
          "name": "stdout",
          "text": [
            "One-Hot Encoded:\n",
            " [[0. 1. 0.]\n",
            " [1. 0. 0.]\n",
            " [0. 0. 1.]\n",
            " [0. 1. 0.]]\n"
          ]
        }
      ]
    },
    {
      "cell_type": "markdown",
      "source": [
        "## w/ Sklearn"
      ],
      "metadata": {
        "id": "xNuvkiQdTf0B"
      }
    },
    {
      "cell_type": "code",
      "execution_count": null,
      "metadata": {
        "colab": {
          "base_uri": "https://localhost:8080/"
        },
        "id": "BTmA8RRIZFCO",
        "outputId": "fe9d8cbd-4724-41b4-c79c-ab1ab47c90ea"
      },
      "outputs": [
        {
          "output_type": "stream",
          "name": "stdout",
          "text": [
            "One-Hot Encoded:\n",
            "   (0, 1)\t1.0\n",
            "  (1, 0)\t1.0\n",
            "  (2, 2)\t1.0\n",
            "  (3, 1)\t1.0\n"
          ]
        }
      ],
      "source": [
        "from sklearn.preprocessing import OneHotEncoder\n",
        "import numpy as np\n",
        "\n",
        "# Data\n",
        "colors = np.array(['Red', 'Green', 'Yellow', 'Red']).reshape(-1, 1)\n",
        "\n",
        "# Initialize OneHot Encoder\n",
        "onehot_encoder = OneHotEncoder()\n",
        "\n",
        "# Fit and Transform the data\n",
        "onehot_encoded = onehot_encoder.fit_transform(colors)\n",
        "\n",
        "# Output\n",
        "print(\"One-Hot Encoded:\\n\", onehot_encoded)"
      ]
    },
    {
      "cell_type": "markdown",
      "metadata": {
        "id": "sErBr7ZpcZGD"
      },
      "source": [
        "# 3. Normalization\n"
      ]
    },
    {
      "cell_type": "markdown",
      "source": [
        "## loss w.r.t. learning rate & data scale\n",
        "\n"
      ],
      "metadata": {
        "id": "YeqzIXCUozeY"
      }
    },
    {
      "cell_type": "code",
      "execution_count": null,
      "metadata": {
        "colab": {
          "base_uri": "https://localhost:8080/",
          "height": 430
        },
        "id": "SPimsFAncZGD",
        "outputId": "8ee8a3d2-d23c-4b31-a583-1760d8736118"
      },
      "outputs": [
        {
          "output_type": "display_data",
          "data": {
            "text/plain": [
              "<Figure size 640x480 with 1 Axes>"
            ],
            "image/png": "[encoded data removed]"
          },
          "metadata": {}
        }
      ],
      "source": [
        "import numpy as np\n",
        "import pandas as pd\n",
        "import matplotlib.pyplot as plt\n",
        "\n",
        "# Suppress runtime warnings due to overflow\n",
        "np.seterr(over='ignore')\n",
        "\n",
        "# Your provided linear_regression class\n",
        "class linear_regression:\n",
        "    def __init__(self):  # initial parameters\n",
        "        self.w = 0.5  # fixed initialization for comparison convenience\n",
        "        self.b = 0.5\n",
        "\n",
        "    def fit(self, X, Y, lr=0.00001):\n",
        "        self.lr = lr\n",
        "        epoch = 0\n",
        "        loss_log = []\n",
        "        while epoch < 8000:\n",
        "            pred = self.predict(X)\n",
        "            l = self.loss(pred, Y)  # get loss\n",
        "            loss_log.append(l)\n",
        "            delta_w = 2 * np.matmul((Y - pred).T, X).flatten()  # gradient of w\n",
        "            delta_b = sum(2 * (Y - pred)).flatten()\n",
        "            self.w = self.w + lr * delta_w\n",
        "            self.b = self.b + lr * delta_b\n",
        "            epoch += 1\n",
        "        return np.mean(loss_log[-5:])\n",
        "\n",
        "    def loss(self, pred, Y):\n",
        "        error = Y - pred\n",
        "        return np.mean(error ** 2)  # MSE\n",
        "\n",
        "    def predict(self, X):\n",
        "        return X * self.w + self.b  # n by 1\n",
        "\n",
        "# Initializing data\n",
        "X_original = np.arange(-5, 5, 0.1)\n",
        "w = 0.5\n",
        "b = 0.2\n",
        "Y = X_original * w + b + (np.random.rand(X_original.shape[0], ) - 0.5)  # add some noise to Y\n",
        "X_original = X_original.reshape(100, 1)\n",
        "Y = Y.reshape(100, 1)\n",
        "\n",
        "plt.scatter(X_original, Y)\n",
        "plt.show()\n"
      ]
    },
    {
      "cell_type": "code",
      "source": [
        "\n",
        "# Learning rates and scales\n",
        "learning_rates = [0.1, 0.01, 0.001, 0.0001, 0.00001]\n",
        "scales = [0.1, 1, 2, 5, 10]\n",
        "\n",
        "# Dictionary to store results\n",
        "results = {}\n",
        "\n",
        "# Running the regression for each combination of learning rate and scale\n",
        "for lr in learning_rates:\n",
        "    for scale in scales:\n",
        "        X_scaled = X_original * scale\n",
        "        model = linear_regression()\n",
        "        try:\n",
        "            loss = model.fit(X_scaled, Y, lr=lr)\n",
        "        except Exception as e:  # In case of any numerical issue\n",
        "            loss = float('inf')\n",
        "        results[(lr, scale)] = loss\n",
        "\n",
        "# Converting the results to a DataFrame\n",
        "df_results = pd.DataFrame(list(results.items()), columns=['LR_Scale', 'Loss'])\n",
        "df_results['Learning Rate'] = df_results['LR_Scale'].apply(lambda x: x[0])\n",
        "df_results['Scale'] = df_results['LR_Scale'].apply(lambda x: x[1])\n",
        "df_results.drop('LR_Scale', axis=1, inplace=True)\n",
        "df_results = df_results.pivot(index='Scale', columns='Learning Rate', values='Loss')\n",
        "\n",
        "# Beautify the DataFrame using Styler\n",
        "def color_negative_red(val):\n",
        "    color = 'red' if val == float('inf') else 'black'\n",
        "    return f'color: {color}'\n",
        "\n",
        "styled_df = df_results.style.applymap(color_negative_red)\n",
        "styled_df\n"
      ],
      "metadata": {
        "colab": {
          "base_uri": "https://localhost:8080/",
          "height": 452
        },
        "id": "geO6lPg315oT",
        "outputId": "15f903d7-8789-4d30-a367-00e32f061ecb"
      },
      "execution_count": null,
      "outputs": [
        {
          "output_type": "stream",
          "name": "stderr",
          "text": [
            "<ipython-input-2-8de762a6f008>:22: RuntimeWarning: invalid value encountered in matmul\n",
            "  delta_w = 2 * np.matmul((Y - pred).T, X).flatten()  # gradient of w\n",
            "<ipython-input-2-8de762a6f008>:25: RuntimeWarning: invalid value encountered in add\n",
            "  self.b = self.b + lr * delta_b\n",
            "<ipython-input-2-8de762a6f008>:34: RuntimeWarning: invalid value encountered in add\n",
            "  return X * self.w + self.b  # n by 1\n",
            "<ipython-input-2-8de762a6f008>:23: RuntimeWarning: invalid value encountered in add\n",
            "  delta_b = sum(2 * (Y - pred)).flatten()\n",
            "<ipython-input-2-8de762a6f008>:24: RuntimeWarning: invalid value encountered in add\n",
            "  self.w = self.w + lr * delta_w\n",
            "<ipython-input-3-da3d21a6665c>:31: FutureWarning: Styler.applymap has been deprecated. Use Styler.map instead.\n",
            "  styled_df = df_results.style.applymap(color_negative_red)\n"
          ]
        },
        {
          "output_type": "execute_result",
          "data": {
            "text/plain": [
              "<pandas.io.formats.style.Styler at 0x7e6e5ad7fdc0>"
            ],
            "text/html": [
              "<style type=\"text/css\">\n",
              "#T_37014_row0_col0, #T_37014_row0_col1, #T_37014_row0_col2, #T_37014_row0_col3, #T_37014_row0_col4, #T_37014_row1_col0, #T_37014_row1_col1, #T_37014_row1_col2, #T_37014_row1_col3, #T_37014_row1_col4, #T_37014_row2_col0, #T_37014_row2_col1, #T_37014_row2_col2, #T_37014_row2_col3, #T_37014_row2_col4, #T_37014_row3_col0, #T_37014_row3_col1, #T_37014_row3_col2, #T_37014_row3_col3, #T_37014_row3_col4, #T_37014_row4_col0, #T_37014_row4_col1, #T_37014_row4_col2, #T_37014_row4_col3, #T_37014_row4_col4 {\n",
              "  color: black;\n",
              "}\n",
              "</style>\n",
              "<table id=\"T_37014\" class=\"dataframe\">\n",
              "  <thead>\n",
              "    <tr>\n",
              "      <th class=\"index_name level0\" >Learning Rate</th>\n",
              "      <th id=\"T_37014_level0_col0\" class=\"col_heading level0 col0\" >0.000010</th>\n",
              "      <th id=\"T_37014_level0_col1\" class=\"col_heading level0 col1\" >0.000100</th>\n",
              "      <th id=\"T_37014_level0_col2\" class=\"col_heading level0 col2\" >0.001000</th>\n",
              "      <th id=\"T_37014_level0_col3\" class=\"col_heading level0 col3\" >0.010000</th>\n",
              "      <th id=\"T_37014_level0_col4\" class=\"col_heading level0 col4\" >0.100000</th>\n",
              "    </tr>\n",
              "    <tr>\n",
              "      <th class=\"index_name level0\" >Scale</th>\n",
              "      <th class=\"blank col0\" >&nbsp;</th>\n",
              "      <th class=\"blank col1\" >&nbsp;</th>\n",
              "      <th class=\"blank col2\" >&nbsp;</th>\n",
              "      <th class=\"blank col3\" >&nbsp;</th>\n",
              "      <th class=\"blank col4\" >&nbsp;</th>\n",
              "    </tr>\n",
              "  </thead>\n",
              "  <tbody>\n",
              "    <tr>\n",
              "      <th id=\"T_37014_level0_row0\" class=\"row_heading level0 row0\" >0.100000</th>\n",
              "      <td id=\"T_37014_row0_col0\" class=\"data row0 col0\" >0.194887</td>\n",
              "      <td id=\"T_37014_row0_col1\" class=\"data row0 col1\" >0.077292</td>\n",
              "      <td id=\"T_37014_row0_col2\" class=\"data row0 col2\" >0.077292</td>\n",
              "      <td id=\"T_37014_row0_col3\" class=\"data row0 col3\" >0.380144</td>\n",
              "      <td id=\"T_37014_row0_col4\" class=\"data row0 col4\" >nan</td>\n",
              "    </tr>\n",
              "    <tr>\n",
              "      <th id=\"T_37014_level0_row1\" class=\"row_heading level0 row1\" >1.000000</th>\n",
              "      <td id=\"T_37014_row1_col0\" class=\"data row1 col0\" >0.077292</td>\n",
              "      <td id=\"T_37014_row1_col1\" class=\"data row1 col1\" >0.077292</td>\n",
              "      <td id=\"T_37014_row1_col2\" class=\"data row1 col2\" >0.077292</td>\n",
              "      <td id=\"T_37014_row1_col3\" class=\"data row1 col3\" >nan</td>\n",
              "      <td id=\"T_37014_row1_col4\" class=\"data row1 col4\" >nan</td>\n",
              "    </tr>\n",
              "    <tr>\n",
              "      <th id=\"T_37014_level0_row2\" class=\"row_heading level0 row2\" >2.000000</th>\n",
              "      <td id=\"T_37014_row2_col0\" class=\"data row2 col0\" >0.077292</td>\n",
              "      <td id=\"T_37014_row2_col1\" class=\"data row2 col1\" >0.077292</td>\n",
              "      <td id=\"T_37014_row2_col2\" class=\"data row2 col2\" >nan</td>\n",
              "      <td id=\"T_37014_row2_col3\" class=\"data row2 col3\" >nan</td>\n",
              "      <td id=\"T_37014_row2_col4\" class=\"data row2 col4\" >nan</td>\n",
              "    </tr>\n",
              "    <tr>\n",
              "      <th id=\"T_37014_level0_row3\" class=\"row_heading level0 row3\" >5.000000</th>\n",
              "      <td id=\"T_37014_row3_col0\" class=\"data row3 col0\" >0.077292</td>\n",
              "      <td id=\"T_37014_row3_col1\" class=\"data row3 col1\" >nan</td>\n",
              "      <td id=\"T_37014_row3_col2\" class=\"data row3 col2\" >nan</td>\n",
              "      <td id=\"T_37014_row3_col3\" class=\"data row3 col3\" >nan</td>\n",
              "      <td id=\"T_37014_row3_col4\" class=\"data row3 col4\" >nan</td>\n",
              "    </tr>\n",
              "    <tr>\n",
              "      <th id=\"T_37014_level0_row4\" class=\"row_heading level0 row4\" >10.000000</th>\n",
              "      <td id=\"T_37014_row4_col0\" class=\"data row4 col0\" >0.077292</td>\n",
              "      <td id=\"T_37014_row4_col1\" class=\"data row4 col1\" >nan</td>\n",
              "      <td id=\"T_37014_row4_col2\" class=\"data row4 col2\" >nan</td>\n",
              "      <td id=\"T_37014_row4_col3\" class=\"data row4 col3\" >nan</td>\n",
              "      <td id=\"T_37014_row4_col4\" class=\"data row4 col4\" >nan</td>\n",
              "    </tr>\n",
              "  </tbody>\n",
              "</table>\n"
            ]
          },
          "metadata": {},
          "execution_count": 3
        }
      ]
    },
    {
      "cell_type": "markdown",
      "source": [
        "## loss w.r.t. learning rate & data scale\n",
        "\n",
        "\n"
      ],
      "metadata": {
        "id": "n16l_Bmx1tKg"
      }
    },
    {
      "cell_type": "code",
      "source": [
        "import numpy as np\n",
        "import pandas as pd\n",
        "\n",
        "np.random.seed(20)\n",
        "\n",
        "class linear_regression:\n",
        "    def fit(self, X, Y, lr=1e-4, max_epochs=80000):\n",
        "        epoch = 0\n",
        "        while (epoch < max_epochs):\n",
        "            pred = self.predict(X)\n",
        "            l = self.loss(pred, Y)\n",
        "            if l < 0.0792:\n",
        "                break\n",
        "            delta_w = 2 * np.matmul((Y - pred).T, X)\n",
        "            delta_b = sum(2 * (Y - pred))\n",
        "            self.w = self.w + lr * delta_w.T\n",
        "            self.b = self.b + lr * delta_b\n",
        "            epoch = epoch + 1\n",
        "        return epoch, l\n",
        "\n",
        "    def loss(self, pred, Y):\n",
        "        error = Y - pred\n",
        "        return sum(error**2) / error.shape[0]\n",
        "\n",
        "    def predict(self, X):\n",
        "        return np.matmul(X, self.w) + self.b\n",
        "\n",
        "    def __init__(self):\n",
        "        self.w = np.array([[0.5], [0.5]])\n",
        "        self.b = 0.3\n",
        "\n",
        "# Generate data\n",
        "X1 = np.arange(-5, 5, 0.1)\n",
        "X2 = np.arange(-5, 5, 0.1)\n",
        "W = np.array([[0.1], [0.2]])\n",
        "b = 0.1\n",
        "Y = np.matmul(np.column_stack((X1, X2)), W) + b + (np.random.rand(X1.shape[0], 1) - 0.5)\n",
        "\n",
        "# Learning rates and scales\n",
        "learning_rates = [0.01, 0.001, 0.0001, 0.00001, 0.000001]\n",
        "scales = [1, 5, 15, 50]\n",
        "\n",
        "results = {}\n",
        "for lr in learning_rates:\n",
        "    for scale in scales:\n",
        "        X_scaled = np.column_stack((X1, X2 * scale))\n",
        "        model = linear_regression()\n",
        "        epochs, final_loss = model.fit(X_scaled, Y, lr=lr)\n",
        "        results[(lr, scale)] = (epochs, final_loss)\n",
        "\n",
        "# Create and display a table for each learning rate\n",
        "for lr in learning_rates:\n",
        "    data = []\n",
        "    for scale in scales:\n",
        "        epochs, final_loss = results[(lr, scale)]\n",
        "        data.append({'Scale': scale, 'Epochs': epochs, 'Final Loss': final_loss})\n",
        "\n",
        "    df = pd.DataFrame(data)\n",
        "    print(f\"\\nLearning Rate: {lr}\")\n",
        "    print(df.to_string(index=False))\n",
        "    print(\"\\n\" + \"=\"*40)\n",
        "\n",
        "# Create an overall summary DataFrame\n",
        "df_summary = pd.DataFrame(index=scales, columns=pd.MultiIndex.from_product([learning_rates, ['Epochs', 'Loss']]))\n",
        "for lr in learning_rates:\n",
        "    for scale in scales:\n",
        "        epochs, final_loss = results[(lr, scale)]\n",
        "        df_summary.at[scale, (lr, 'Epochs')] = epochs\n",
        "        df_summary.at[scale, (lr, 'Loss')] = final_loss\n",
        "\n",
        "print(\"\\nOverall Summary:\")\n",
        "print(df_summary)"
      ],
      "metadata": {
        "colab": {
          "base_uri": "https://localhost:8080/"
        },
        "id": "sitpKBI7hyyU",
        "outputId": "c679f763-7645-4c1e-a62c-c63b55a7bdcf"
      },
      "execution_count": null,
      "outputs": [
        {
          "output_type": "stream",
          "name": "stderr",
          "text": [
            "<ipython-input-8-27f1eb2b4021>:26: RuntimeWarning: invalid value encountered in add\n",
            "  return np.matmul(X, self.w) + self.b\n",
            "<ipython-input-8-27f1eb2b4021>:15: RuntimeWarning: invalid value encountered in add\n",
            "  delta_b = sum(2 * (Y - pred))\n",
            "<ipython-input-8-27f1eb2b4021>:16: RuntimeWarning: invalid value encountered in add\n",
            "  self.w = self.w + lr * delta_w.T\n"
          ]
        },
        {
          "output_type": "stream",
          "name": "stdout",
          "text": [
            "\n",
            "Learning Rate: 0.01\n",
            " Scale  Epochs Final Loss\n",
            "     1   80000      [nan]\n",
            "     5   80000      [nan]\n",
            "    15   80000      [nan]\n",
            "    50   80000      [nan]\n",
            "\n",
            "========================================\n",
            "\n",
            "Learning Rate: 0.001\n",
            " Scale  Epochs Final Loss\n",
            "     1   80000      [nan]\n",
            "     5   80000      [nan]\n",
            "    15   80000      [nan]\n",
            "    50   80000      [nan]\n",
            "\n",
            "========================================\n",
            "\n",
            "Learning Rate: 0.0001\n",
            " Scale  Epochs            Final Loss\n",
            "     1      31 [0.07909091615161844]\n",
            "     5   80000                 [nan]\n",
            "    15   80000                 [nan]\n",
            "    50   80000                 [nan]\n",
            "\n",
            "========================================\n",
            "\n",
            "Learning Rate: 1e-05\n",
            " Scale  Epochs            Final Loss\n",
            "     1     311 [0.07916289542072194]\n",
            "     5     306  [0.0791864936211291]\n",
            "    15   80000                 [nan]\n",
            "    50   80000                 [nan]\n",
            "\n",
            "========================================\n",
            "\n",
            "Learning Rate: 1e-06\n",
            " Scale  Epochs            Final Loss\n",
            "     1    3104 [0.07919771440959053]\n",
            "     5    3060 [0.07919741226768029]\n",
            "    15    3048 [0.07919929521819313]\n",
            "    50   80000                 [nan]\n",
            "\n",
            "========================================\n",
            "\n",
            "Overall Summary:\n",
            "   0.010000      0.001000      0.000100                      0.000010  \\\n",
            "     Epochs Loss   Epochs Loss   Epochs                 Loss   Epochs   \n",
            "1     80000  nan    80000  nan       31  0.07909091615161844      311   \n",
            "5     80000  nan    80000  nan    80000                  nan      306   \n",
            "15    80000  nan    80000  nan    80000                  nan    80000   \n",
            "50    80000  nan    80000  nan    80000                  nan    80000   \n",
            "\n",
            "                        0.000001                       \n",
            "                   Loss   Epochs                 Loss  \n",
            "1   0.07916289542072194     3104  0.07919771440959053  \n",
            "5    0.0791864936211291     3060  0.07919741226768029  \n",
            "15                  nan     3048  0.07919929521819313  \n",
            "50                  nan    80000                  nan  \n"
          ]
        }
      ]
    },
    {
      "cell_type": "markdown",
      "source": [
        "# 4. Utilize recall/precision to improve\n",
        "\n",
        "low recall -> too picky -> lower the bar"
      ],
      "metadata": {
        "id": "mei4gVb4YQTm"
      }
    },
    {
      "cell_type": "code",
      "source": [
        "import numpy as np\n",
        "from sklearn.model_selection import train_test_split\n",
        "from sklearn.linear_model import LogisticRegression\n",
        "from sklearn.metrics import classification_report, confusion_matrix\n",
        "from sklearn.preprocessing import StandardScaler\n",
        "from imblearn.over_sampling import SMOTE\n",
        "\n",
        "# Generate synthetic data\n",
        "np.random.seed(42)\n",
        "X = np.random.randn(1000, 2)\n",
        "y = (X[:, 0] + X[:, 1] > 0).astype(int)\n",
        "\n",
        "# Create an imbalanced dataset\n",
        "X = np.vstack([X[y == 0], X[y == 1][:100]])\n",
        "y = np.hstack([y[y == 0], y[y == 1][:100]])\n",
        "\n",
        "# Split the data\n",
        "X_train, X_test, y_train, y_test = train_test_split(X, y, test_size=0.2, random_state=42)\n",
        "\n",
        "# Initial model with low recall\n",
        "def train_and_evaluate(X_train, y_train, X_test, y_test, model, name):\n",
        "    model.fit(X_train, y_train)\n",
        "    y_pred = model.predict(X_test)\n",
        "    print(f\"\\n{name} - Classification Report:\")\n",
        "    print(classification_report(y_test, y_pred))\n",
        "    print(\"Confusion Matrix:\")\n",
        "    print(confusion_matrix(y_test, y_pred))  # Corrected this line\n",
        "\n",
        "# Initial model with default threshold (0.5)\n",
        "initial_model = LogisticRegression(random_state=42)\n",
        "train_and_evaluate(X_train, y_train, X_test, y_test, initial_model, \"Initial Model\")\n",
        "\n",
        "\n",
        "\n",
        "# Improve recall by adjusting the decision threshold\n",
        "def predict_with_threshold(model, X, threshold):\n",
        "    y_pred_proba = model.predict_proba(X)[:, 1]\n",
        "    return (y_pred_proba >= threshold).astype(int)\n",
        "\n",
        "# Lower the threshold to (0.3)\n",
        "threshold_model = LogisticRegression(random_state=42)\n",
        "threshold_model.fit(X_train, y_train)\n",
        "y_pred_threshold = predict_with_threshold(threshold_model, X_test, 0.3)\n",
        "print(\"\\nModel with Adjusted Threshold - Classification Report:\")\n",
        "print(classification_report(y_test, y_pred_threshold))\n",
        "print(\"Confusion Matrix:\")\n",
        "print(confusion_matrix(y_test, y_pred_threshold))\n",
        "\n",
        "# Improve both recall and precision using feature scaling and SMOTE\n",
        "scaler = StandardScaler()\n",
        "X_train_scaled = scaler.fit_transform(X_train)\n",
        "X_test_scaled = scaler.transform(X_test)\n",
        "\n",
        "smote = SMOTE(random_state=42)\n",
        "X_train_resampled, y_train_resampled = smote.fit_resample(X_train_scaled, y_train)\n",
        "\n",
        "final_model = LogisticRegression(random_state=42)\n",
        "train_and_evaluate(X_train_resampled, y_train_resampled, X_test_scaled, y_test, final_model, \"Final Model (with Scaling and SMOTE)\")"
      ],
      "metadata": {
        "colab": {
          "base_uri": "https://localhost:8080/"
        },
        "id": "0uOTQn85YXrV",
        "outputId": "202d4aba-726f-4550-e946-e3c2474db600"
      },
      "execution_count": null,
      "outputs": [
        {
          "output_type": "stream",
          "name": "stdout",
          "text": [
            "\n",
            "Initial Model - Classification Report:\n",
            "              precision    recall  f1-score   support\n",
            "\n",
            "           0       0.95      1.00      0.97        95\n",
            "           1       1.00      0.78      0.88        23\n",
            "\n",
            "    accuracy                           0.96       118\n",
            "   macro avg       0.97      0.89      0.93       118\n",
            "weighted avg       0.96      0.96      0.96       118\n",
            "\n",
            "Confusion Matrix:\n",
            "[[95  0]\n",
            " [ 5 18]]\n",
            "\n",
            "Model with Adjusted Threshold - Classification Report:\n",
            "              precision    recall  f1-score   support\n",
            "\n",
            "           0       0.97      1.00      0.98        95\n",
            "           1       1.00      0.87      0.93        23\n",
            "\n",
            "    accuracy                           0.97       118\n",
            "   macro avg       0.98      0.93      0.96       118\n",
            "weighted avg       0.98      0.97      0.97       118\n",
            "\n",
            "Confusion Matrix:\n",
            "[[95  0]\n",
            " [ 3 20]]\n",
            "\n",
            "Final Model (with Scaling and SMOTE) - Classification Report:\n",
            "              precision    recall  f1-score   support\n",
            "\n",
            "           0       0.98      1.00      0.99        95\n",
            "           1       1.00      0.91      0.95        23\n",
            "\n",
            "    accuracy                           0.98       118\n",
            "   macro avg       0.99      0.96      0.97       118\n",
            "weighted avg       0.98      0.98      0.98       118\n",
            "\n",
            "Confusion Matrix:\n",
            "[[95  0]\n",
            " [ 2 21]]\n"
          ]
        }
      ]
    },
    {
      "cell_type": "markdown",
      "source": [
        "# 5. Evaluation"
      ],
      "metadata": {
        "id": "p6GwuTffVjVd"
      }
    },
    {
      "cell_type": "markdown",
      "source": [
        "## accuracy"
      ],
      "metadata": {
        "id": "ntmq23vFVsEX"
      }
    },
    {
      "cell_type": "code",
      "source": [
        "# Example of calculating classification accuracy\n",
        "\n",
        "# Calculate accuracy percentage between two lists\n",
        "def accuracy_metric(actual, predicted):\n",
        "\tcorrect = 0\n",
        "\tfor i in range(len(actual)):\n",
        "\t\tif actual[i] == predicted[i]:\n",
        "\t\t\tcorrect += 1\n",
        "\treturn correct / float(len(actual)) * 100.0\n",
        "\n",
        "# Test accuracy\n",
        "actual = [0,0,0,0,0,1,1,1,1,1]\n",
        "predicted = [0,1,0,0,0,1,0,1,1,1]\n",
        "accuracy = accuracy_metric(actual, predicted)\n",
        "print(accuracy)"
      ],
      "metadata": {
        "colab": {
          "base_uri": "https://localhost:8080/"
        },
        "id": "_6gPsfnKVp86",
        "outputId": "84c94ffb-a8f3-449f-d83a-0c5a2f5796d3"
      },
      "execution_count": null,
      "outputs": [
        {
          "output_type": "stream",
          "name": "stdout",
          "text": [
            "80.0\n"
          ]
        }
      ]
    },
    {
      "cell_type": "markdown",
      "source": [
        "## confusion matrix"
      ],
      "metadata": {
        "id": "9PweEtglVuOF"
      }
    },
    {
      "cell_type": "code",
      "source": [
        "# Example of calculating classification metrics\n",
        "\n",
        "# Calculate accuracy percentage between two lists\n",
        "def accuracy_metric(actual, predicted):\n",
        "    correct = 0\n",
        "    for i in range(len(actual)):\n",
        "        if actual[i] == predicted[i]:\n",
        "            correct += 1\n",
        "    return correct / float(len(actual)) * 100.0\n",
        "\n",
        "# Calculate precision\n",
        "def precision_metric(actual, predicted):\n",
        "    TP = sum((a == 1) & (p == 1) for a, p in zip(actual, predicted))\n",
        "    FP = sum((a == 0) & (p == 1) for a, p in zip(actual, predicted))\n",
        "    return TP / (TP + FP)\n",
        "\n",
        "# Calculate recall\n",
        "def recall_metric(actual, predicted):\n",
        "    TP = sum((a == 1) & (p == 1) for a, p in zip(actual, predicted))\n",
        "    FN = sum((a == 1) & (p == 0) for a, p in zip(actual, predicted))\n",
        "    return TP / (TP + FN)\n",
        "\n",
        "# Calculate F1 score\n",
        "def f1_metric(actual, predicted):\n",
        "    precision = precision_metric(actual, predicted)\n",
        "    recall = recall_metric(actual, predicted)\n",
        "    return 2 * (precision * recall) / (precision + recall)\n",
        "\n",
        "# Calculate confusion matrix\n",
        "def confusion_matrix_metric(actual, predicted):\n",
        "    TP = sum((a == 1) & (p == 1) for a, p in zip(actual, predicted))\n",
        "    TN = sum((a == 0) & (p == 0) for a, p in zip(actual, predicted))\n",
        "    FP = sum((a == 0) & (p == 1) for a, p in zip(actual, predicted))\n",
        "    FN = sum((a == 1) & (p == 0) for a, p in zip(actual, predicted))\n",
        "    return [[TN, FP], [FN, TP]]\n",
        "\n",
        "def print_confusion_matrix(conf_matrix):\n",
        "    print(\"\\nConfusion Matrix:\")\n",
        "    print(\"\\t     Predicted:\")\n",
        "    print(\"\\t      0     1\")\n",
        "    print(\"Actual: 0 {0:5d} {1:5d}\".format(conf_matrix[0][0], conf_matrix[0][1]))\n",
        "    print(\"        1 {0:5d} {1:5d}\".format(conf_matrix[1][0], conf_matrix[1][1]))\n",
        "\n",
        "\n",
        "# Test values\n",
        "actual = [0,0,0,0,0,1,1,1,1,1]\n",
        "predicted = [0,1,0,0,0,1,0,1,1,1]\n",
        "\n",
        "# Calculate metrics\n",
        "accuracy = accuracy_metric(actual, predicted)\n",
        "precision = precision_metric(actual, predicted)\n",
        "recall = recall_metric(actual, predicted)\n",
        "f1 = f1_metric(actual, predicted)\n",
        "conf_matrix = confusion_matrix_metric(actual, predicted)\n",
        "\n",
        "# Print results\n",
        "print(\"Accuracy:\", accuracy)\n",
        "print(\"Precision:\", precision)\n",
        "print(\"Recall:\", recall)\n",
        "print(\"F1 Score:\", f1)\n",
        "print_confusion_matrix(conf_matrix)"
      ],
      "metadata": {
        "colab": {
          "base_uri": "https://localhost:8080/"
        },
        "id": "G0sW4SkOVwze",
        "outputId": "768b7d5b-d39b-4f2e-9fb9-4293530d3ab1"
      },
      "execution_count": null,
      "outputs": [
        {
          "output_type": "stream",
          "name": "stdout",
          "text": [
            "Accuracy: 80.0\n",
            "Precision: 0.8\n",
            "Recall: 0.8\n",
            "F1 Score: 0.8000000000000002\n",
            "\n",
            "Confusion Matrix:\n",
            "\t     Predicted:\n",
            "\t      0     1\n",
            "Actual: 0     4     1\n",
            "        1     1     4\n"
          ]
        }
      ]
    },
    {
      "cell_type": "markdown",
      "source": [
        "## three class with `sklearn`\n"
      ],
      "metadata": {
        "id": "9oh40eK0VzwX"
      }
    },
    {
      "cell_type": "markdown",
      "source": [
        "Sure, I can provide you with a Python demo for a three-class classification problem, along with the evaluation using a confusion matrix. In this example, I'll use a simple dataset from `scikit-learn`, perform classification using a basic classifier, and then evaluate the model using a confusion matrix. Let's proceed step by step.\n",
        "\n",
        "1. **Importing Required Libraries**: We'll need `numpy`, `matplotlib` for plotting, `scikit-learn` for the dataset and the classifier, and `confusion_matrix` for evaluation.\n",
        "\n",
        "2. **Loading the Dataset**: We'll use a dataset like the Iris dataset, which is a classic in machine learning and includes three classes.\n",
        "\n",
        "3. **Preprocessing the Data**: Splitting the dataset into a training set and a test set.\n",
        "\n",
        "4. **Training a Classifier**: We'll use a simple classifier like Logistic Regression for this demo.\n",
        "\n",
        "5. **Making Predictions and Evaluating the Model**: Using the test set to make predictions and then creating a confusion matrix to evaluate the model.\n",
        "\n",
        "Let's implement this in Python code. I will write the code and explain each step.\n",
        "\n",
        "The Python script successfully executed a three-class classification task using the Iris dataset, and then evaluated the model using a confusion matrix. Here's a breakdown of the steps:\n",
        "\n",
        "1. **Import Libraries**: We imported necessary libraries such as `numpy`, `matplotlib`, and relevant components from `scikit-learn`.\n",
        "\n",
        "2. **Dataset**: We used the Iris dataset, which contains 3 classes of iris species.\n",
        "\n",
        "3. **Data Splitting**: The dataset was split into training (80%) and testing (20%) sets.\n",
        "\n",
        "4. **Model Training**: We trained a Logistic Regression model on the training data.\n",
        "\n",
        "5. **Model Prediction and Evaluation**: The model made predictions on the test set, and we evaluated these predictions using a confusion matrix.\n",
        "\n",
        "The confusion matrix displayed is a graphical representation of the model's performance. Each row of the matrix represents the instances in an actual class, while each column represents the instances in a predicted class. This matrix helps in understanding not only the errors being made by the classifier but also the types of errors that are occurring."
      ],
      "metadata": {
        "id": "o9j1wm2UXBT3"
      }
    },
    {
      "cell_type": "code",
      "source": [
        "# prompt: show iris information\n",
        "\n",
        "import pandas as pd\n",
        "import numpy as np\n",
        "from sklearn import datasets\n",
        "from sklearn.model_selection import train_test_split\n",
        "from sklearn.linear_model import LogisticRegression\n",
        "from sklearn.metrics import confusion_matrix\n",
        "\n",
        "# Load the Iris dataset\n",
        "iris = datasets.load_iris()\n",
        "\n",
        "# Show information about the dataset\n",
        "print(\"Number of instances:\", iris.target.shape[0])\n",
        "print(\"Number of attributes:\", iris.data.shape[1])\n",
        "print(\"Target names:\", iris.target_names)\n",
        "print(\"Feature names:\", iris.feature_names)\n",
        "\n",
        "X = iris.data\n",
        "y = iris.target"
      ],
      "metadata": {
        "colab": {
          "base_uri": "https://localhost:8080/"
        },
        "id": "aXqzSDGpaVM-",
        "outputId": "0e63583c-aa64-48d4-e85b-bd9d212e18d0"
      },
      "execution_count": null,
      "outputs": [
        {
          "output_type": "stream",
          "name": "stdout",
          "text": [
            "Number of instances: 150\n",
            "Number of attributes: 4\n",
            "Target names: ['setosa' 'versicolor' 'virginica']\n",
            "Feature names: ['sepal length (cm)', 'sepal width (cm)', 'petal length (cm)', 'petal width (cm)']\n"
          ]
        }
      ]
    },
    {
      "cell_type": "code",
      "source": [
        "# Splitting the dataset into the Training set and Test set\n",
        "X_train, X_test, y_train, y_test = train_test_split(X, y, test_size=0.2, random_state=42)\n",
        "\n",
        "# Training the Logistic Regression model on the Training set\n",
        "classifier = LogisticRegression(max_iter=200)\n",
        "classifier.fit(X_train, y_train)\n",
        "\n",
        "# Predicting the Test set results\n",
        "y_pred = classifier.predict(X_test)\n",
        "\n",
        "# Making the Confusion Matrix\n",
        "cm = confusion_matrix(y_test, y_pred)\n",
        "\n",
        "# Display the confusion matrix\n",
        "cm_display = ConfusionMatrixDisplay(cm, display_labels=iris.target_names)\n",
        "cm_display.plot()\n",
        "plt.title('Confusion Matrix')\n",
        "plt.show()"
      ],
      "metadata": {
        "colab": {
          "base_uri": "https://localhost:8080/",
          "height": 472
        },
        "id": "FrOCrvDcWfCf",
        "outputId": "663951c7-cfe3-41a6-ba38-8e541ccfc5c8"
      },
      "execution_count": null,
      "outputs": [
        {
          "output_type": "display_data",
          "data": {
            "text/plain": [
              "<Figure size 640x480 with 2 Axes>"
            ],
            "image/png": "[encoded data removed]"
          },
          "metadata": {}
        }
      ]
    },
    {
      "cell_type": "markdown",
      "source": [
        "# 6. Data split"
      ],
      "metadata": {
        "id": "Vz0qdJZ_aOvV"
      }
    },
    {
      "cell_type": "code",
      "source": [
        "from sklearn.datasets import load_iris\n",
        "from sklearn.model_selection import train_test_split, cross_val_score, KFold\n",
        "from sklearn.linear_model import LogisticRegression\n",
        "from sklearn.metrics import accuracy_score\n",
        "import numpy as np\n",
        "\n",
        "# Load the Iris dataset\n",
        "iris = load_iris()\n",
        "X = iris.data\n",
        "y = iris.target\n",
        "\n",
        "# Logistic Regression Classifier\n",
        "classifier = LogisticRegression(max_iter=200)\n",
        "\n",
        "# K-Fold Cross-Validation (5 round classification inside)\n",
        "for i in range(10):\n",
        "    kf = KFold(n_splits=5, shuffle=True, random_state=i)\n",
        "    accuracy_kfold = np.mean(cross_val_score(classifier, X, y, cv=kf))\n",
        "    print(accuracy_kfold)"
      ],
      "metadata": {
        "colab": {
          "base_uri": "https://localhost:8080/"
        },
        "id": "xTf6u7IgaRCy",
        "outputId": "c49ad176-2407-4cd8-d923-8f22ff4dfc1f"
      },
      "execution_count": null,
      "outputs": [
        {
          "output_type": "stream",
          "name": "stdout",
          "text": [
            "0.9533333333333334\n",
            "0.96\n",
            "0.96\n",
            "0.96\n",
            "0.9666666666666668\n",
            "0.9733333333333334\n",
            "0.96\n",
            "0.9666666666666668\n",
            "0.9666666666666666\n",
            "0.9733333333333334\n"
          ]
        }
      ]
    },
    {
      "cell_type": "markdown",
      "source": [
        "### K-round random v.s. k-fold\n",
        "\n",
        "Look into K-round ramdom"
      ],
      "metadata": {
        "id": "Ekz3RddGbbN7"
      }
    },
    {
      "cell_type": "code",
      "source": [
        "# Perform 5 rounds of random split and evaluate the accuracy\n",
        "\n",
        "accuracy_scores = []\n",
        "\n",
        "for i in range(10):\n",
        "    # Random Split for each round\n",
        "    X_train, X_test, y_train, y_test = train_test_split(X, y, test_size=0.2, random_state=i)\n",
        "\n",
        "    # Training the model\n",
        "    classifier.fit(X_train, y_train)\n",
        "\n",
        "    # Making predictions and evaluating accuracy\n",
        "    y_pred = classifier.predict(X_test)\n",
        "    accuracy = accuracy_score(y_test, y_pred)\n",
        "\n",
        "    # Storing the accuracy for each round\n",
        "    accuracy_scores.append(accuracy)\n",
        "    print(accuracy)\n"
      ],
      "metadata": {
        "colab": {
          "base_uri": "https://localhost:8080/"
        },
        "id": "PD079SgEbgJv",
        "outputId": "13daa21e-6fe1-4f6d-9dad-b81f2d608288"
      },
      "execution_count": null,
      "outputs": [
        {
          "output_type": "stream",
          "name": "stdout",
          "text": [
            "1.0\n",
            "0.9666666666666667\n",
            "0.9666666666666667\n",
            "1.0\n",
            "0.9666666666666667\n",
            "0.9666666666666667\n",
            "0.9666666666666667\n",
            "0.8666666666666667\n",
            "0.9\n",
            "1.0\n"
          ]
        }
      ]
    }
  ],
  "metadata": {
    "colab": {
      "provenance": []
    },
    "kernelspec": {
      "display_name": "Python 3",
      "name": "python3"
    },
    "language_info": {
      "codemirror_mode": {
        "name": "ipython",
        "version": 3
      },
      "file_extension": ".py",
      "mimetype": "text/x-python",
      "name": "python",
      "nbconvert_exporter": "python",
      "pygments_lexer": "ipython3",
      "version": "3.11.5"
    }
  },
  "nbformat": 4,
  "nbformat_minor": 0
}