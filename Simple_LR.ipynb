{
  "nbformat": 4,
  "nbformat_minor": 0,
  "metadata": {
    "colab": {
      "provenance": []
    },
    "kernelspec": {
      "name": "python3",
      "display_name": "Python 3"
    },
    "language_info": {
      "name": "python"
    }
  },
  "cells": [
    {
      "cell_type": "markdown",
      "source": [
        "# Synthetic Data\n"
      ],
      "metadata": {
        "id": "Mc7NEHXfn74J"
      }
    },
    {
      "cell_type": "markdown",
      "source": [
        "## Covariance and Variance"
      ],
      "metadata": {
        "id": "QjEAmiEv1Ch4"
      }
    },
    {
      "cell_type": "code",
      "source": [
        "def mean(values):\n",
        "\treturn sum(values) / float(len(values))"
      ],
      "metadata": {
        "id": "GoYeB3lrIVfS"
      },
      "execution_count": 1,
      "outputs": []
    },
    {
      "cell_type": "code",
      "source": [
        "def covariance(x, mean_x, y, mean_y):\n",
        "\tcovar = 0.0\n",
        "\tfor i in range(len(x)):\n",
        "\t\tcovar += (x[i] - mean_x) * (y[i] - mean_y)\n",
        "\treturn covar"
      ],
      "metadata": {
        "id": "jtwNFaI-IVP_"
      },
      "execution_count": 2,
      "outputs": []
    },
    {
      "cell_type": "code",
      "source": [
        "def variance(values, mean):\n",
        "\treturn sum([(x-mean)**2 for x in values])"
      ],
      "metadata": {
        "id": "7EgB506yIgXI"
      },
      "execution_count": 3,
      "outputs": []
    },
    {
      "cell_type": "code",
      "execution_count": 4,
      "metadata": {
        "id": "gatE5sgj1B6n",
        "colab": {
          "base_uri": "https://localhost:8080/"
        },
        "outputId": "fef44d1f-bac5-4a26-e6d8-8405df62342c"
      },
      "outputs": [
        {
          "output_type": "stream",
          "name": "stdout",
          "text": [
            "Covariance between x and y: 8.000\n"
          ]
        }
      ],
      "source": [
        "dataset = [[1, 1], [2, 3], [4, 3], [3, 2], [5, 5]]\n",
        "x = [row[0] for row in dataset]\n",
        "y = [row[1] for row in dataset]\n",
        "\n",
        "mean_x, mean_y = mean(x), mean(y)\n",
        "\n",
        "covar = covariance(x, mean_x, y, mean_y)\n",
        "\n",
        "print('Covariance between x and y: %.3f' % (covar))"
      ]
    },
    {
      "cell_type": "code",
      "source": [
        "# prompt: calculate variance of x with function above\n",
        "var_x = variance(x, mean_x)\n",
        "print('Variance of x: %.3f' % (var_x))"
      ],
      "metadata": {
        "colab": {
          "base_uri": "https://localhost:8080/"
        },
        "id": "8QCLOO_6IqYF",
        "outputId": "e380b85d-7709-465a-8efa-89f9948625e2"
      },
      "execution_count": 5,
      "outputs": [
        {
          "output_type": "stream",
          "name": "stdout",
          "text": [
            "Variance of x: 10.000\n"
          ]
        }
      ]
    },
    {
      "cell_type": "markdown",
      "source": [
        "## Estimate betas"
      ],
      "metadata": {
        "id": "udKLlmzL1E6t"
      }
    },
    {
      "cell_type": "code",
      "source": [
        "# Calculate coefficients\n",
        "def coefficients(dataset):\n",
        "\tx = [row[0] for row in dataset]\n",
        "\ty = [row[1] for row in dataset]\n",
        "\tx_mean, y_mean = mean(x), mean(y)\n",
        "\tb1 = covariance(x, x_mean, y, y_mean) / variance(x, x_mean)\n",
        "\tb0 = y_mean - b1 * x_mean\n",
        "\treturn [b0, b1]\n",
        "\n",
        "# calculate coefficients\n",
        "b0, b1 = coefficients(dataset)\n",
        "print('Coefficients: B0=%.3f, B1=%.3f' % (b0, b1))"
      ],
      "metadata": {
        "colab": {
          "base_uri": "https://localhost:8080/"
        },
        "id": "BfferXlg1qHZ",
        "outputId": "3d7be9a5-9970-47e1-daee-d18c3904e3df"
      },
      "execution_count": 6,
      "outputs": [
        {
          "output_type": "stream",
          "name": "stdout",
          "text": [
            "Coefficients: B0=0.400, B1=0.800\n"
          ]
        }
      ]
    },
    {
      "cell_type": "code",
      "source": [
        "# prompt: plot the dataset and the linear function with b0 and b1\n",
        "import matplotlib.pyplot as plt\n",
        "\n",
        "# Plot the dataset\n",
        "plt.scatter(x, y, color='red')\n",
        "\n",
        "# Plot the linear function\n",
        "x_vals = range(min(x)-2, max(x) + 2)\n",
        "y_vals = [b0 + b1 * x_val for x_val in x_vals]\n",
        "plt.plot(x_vals, y_vals)\n",
        "\n",
        "# Show the plot\n",
        "plt.show()"
      ],
      "metadata": {
        "colab": {
          "base_uri": "https://localhost:8080/",
          "height": 430
        },
        "id": "4jFRcE4iJIbH",
        "outputId": "e6c31802-a386-4f01-be49-b8896f5492c0"
      },
      "execution_count": 7,
      "outputs": [
        {
          "output_type": "display_data",
          "data": {
            "text/plain": [
              "<Figure size 640x480 with 1 Axes>"
            ],
            "image/png": "[encoded data removed]"
          },
          "metadata": {}
        }
      ]
    },
    {
      "cell_type": "markdown",
      "source": [
        "# Other methods & implementations (least square) for linear regression\n",
        "\n"
      ],
      "metadata": {
        "id": "sCCJFDZI1KN5"
      }
    },
    {
      "cell_type": "code",
      "source": [
        "from sklearn.linear_model import LinearRegression\n",
        "import numpy as np\n",
        "\n",
        "# Your dataset\n",
        "dataset = [[1, 1], [2, 3], [4, 3], [3, 2], [5, 5]]\n",
        "x = np.array([row[0] for row in dataset]).reshape(-1, 1)\n",
        "y = np.array([row[1] for row in dataset])\n",
        "\n",
        "# Perform regression\n",
        "model = LinearRegression().fit(x, y)\n",
        "\n",
        "print(f\"Coefficient (slope): {model.coef_[0]}\")\n",
        "print(f\"Intercept: {model.intercept_}\")"
      ],
      "metadata": {
        "colab": {
          "base_uri": "https://localhost:8080/"
        },
        "id": "BpsuB-HkN03q",
        "outputId": "d59ee9d3-8007-4735-a84d-c2dfa0ba95b6"
      },
      "execution_count": 8,
      "outputs": [
        {
          "output_type": "stream",
          "name": "stdout",
          "text": [
            "Coefficient (slope): 0.7999999999999999\n",
            "Intercept: 0.3999999999999999\n"
          ]
        }
      ]
    },
    {
      "cell_type": "markdown",
      "source": [
        "Sklearn use gradient opt for linearregression. Optionally, take a round on coefficents."
      ],
      "metadata": {
        "id": "tKWGlDAWfmpi"
      }
    },
    {
      "cell_type": "markdown",
      "source": [
        "## Multidimensional Data"
      ],
      "metadata": {
        "id": "VgH7_25JOm0u"
      }
    },
    {
      "cell_type": "code",
      "source": [
        "dataset = [\n",
        "    [1, 2, 3],  # First row: x1=1, x2=2, y=3\n",
        "    [2, 3, 6],  # Second row: x1=2, x2=3, y=6\n",
        "    [3, 4, 7],  # and so on...\n",
        "    [4, 5, 8],\n",
        "    [5, 6, 11]\n",
        "]\n"
      ],
      "metadata": {
        "id": "sY0awmOCOmKF"
      },
      "execution_count": 9,
      "outputs": []
    },
    {
      "cell_type": "code",
      "source": [
        "from sklearn.linear_model import LinearRegression\n",
        "import numpy as np\n",
        "\n",
        "# Extract independent and dependent variables\n",
        "X = np.array([row[:2] for row in dataset])  # independent variables\n",
        "y = np.array([row[2] for row in dataset])   # dependent variable\n",
        "\n",
        "# Perform regression\n",
        "model = LinearRegression().fit(X, y)\n",
        "\n",
        "print(f\"Coefficients: {model.coef_}\")\n",
        "print(f\"Intercept: {model.intercept_}\")\n"
      ],
      "metadata": {
        "colab": {
          "base_uri": "https://localhost:8080/"
        },
        "id": "1-1FStPVOvRG",
        "outputId": "5705e277-a8d7-4df1-9bb1-b53d250ba173"
      },
      "execution_count": 10,
      "outputs": [
        {
          "output_type": "stream",
          "name": "stdout",
          "text": [
            "Coefficients: [0.9 0.9]\n",
            "Intercept: 0.6999999999999993\n"
          ]
        }
      ]
    }
  ]
}